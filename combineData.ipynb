{
 "cells": [
  {
   "cell_type": "code",
   "execution_count": 1,
   "metadata": {
    "collapsed": false
   },
   "outputs": [
    {
     "name": "stdout",
     "output_type": "stream",
     "text": [
      "14611\n"
     ]
    }
   ],
   "source": [
    "# Import Python's json Encoder and Decoder\n",
    "import json\n",
    "from pprint import pprint\n",
    "\n",
    "# Open the main .json data file, read and save as list of dictionaries\n",
    "data = []\n",
    "with open('dengueDump_3.23.16_nonvalidated.json') as f:\n",
    "    for line in f:\n",
    "        data.append(json.loads(line))\n",
    "    # end\n",
    "#end\n",
    "        \n",
    "print(len(data))"
   ]
  },
  {
   "cell_type": "code",
   "execution_count": 12,
   "metadata": {
    "collapsed": false
   },
   "outputs": [
    {
     "name": "stdout",
     "output_type": "stream",
     "text": [
      "{'_id': '408779568778997760',\n",
      " 'acr': '2011-08-13T00:59:17',\n",
      " 'cc': 'MX',\n",
      " 'country': 'Estados Unidos Mexicanos',\n",
      " 'county': 'Francisco Villa',\n",
      " 'cr': '2013-12-05T21:06:58',\n",
      " 'edits': [{'curator_id': '540e300a7673826b17a5604c',\n",
      "            'date': '2015-08-15T21:18:45.875000',\n",
      "            'field': 'tags',\n",
      "            'new': 1}],\n",
      " 'f': 'tw201312520232',\n",
      " 'flng': 213,\n",
      " 'flrs': 399,\n",
      " 'lang': 'es',\n",
      " 'loc': 'Monterrey Es De Tigres ',\n",
      " 'microregion': 'NA',\n",
      " 'p': 'c5c72776b9f0cc0b',\n",
      " 'pln': -100.273,\n",
      " 'plt': 25.737,\n",
      " 'region': 66460,\n",
      " 'state': 'Nuevo León',\n",
      " 't': '@Doravelizg  es el Dengueeeee',\n",
      " 'tags': {'540e300a7673826b17a5604c': 1},\n",
      " 'tln': -100.277,\n",
      " 'tlt': 25.746,\n",
      " 'uid': '354120599',\n",
      " 'v': False}\n"
     ]
    }
   ],
   "source": [
    "pprint(data[0])"
   ]
  },
  {
   "cell_type": "code",
   "execution_count": 2,
   "metadata": {
    "collapsed": true
   },
   "outputs": [],
   "source": [
    "# Import open-source package 'openpyxl' to deal with excel sheets\n",
    "import openpyxl\n",
    "\n",
    "# Load excel file containing tweet location information and save it in lists\n",
    "rec = openpyxl.load_workbook('Tweets_reverse_geolocated_updated.xlsx')\n",
    "rec.get_sheet_names()\n",
    "sheet = rec.get_sheet_by_name('Tweets_reverse_geolocated_updat')"
   ]
  },
  {
   "cell_type": "code",
   "execution_count": 3,
   "metadata": {
    "collapsed": false
   },
   "outputs": [],
   "source": [
    "country = []\n",
    "region = []\n",
    "state = []\n",
    "county = []\n",
    "mregion = []\n",
    "for i in range(2, 28126):\n",
    "    val = sheet.cell(row = i, column = 6).value\n",
    "    if (isinstance(val, int)):\n",
    "        country.extend([val])\n",
    "    else:\n",
    "        country.extend([val.lstrip()])\n",
    "    val = sheet.cell(row = i, column = 7).value\n",
    "    if (isinstance(val, int)):\n",
    "        region.extend([val])\n",
    "    else:\n",
    "        region.extend([val.lstrip()])\n",
    "    val = sheet.cell(row = i, column = 8).value\n",
    "    if (isinstance(val, int)):\n",
    "        state.extend([val])\n",
    "    else:\n",
    "        state.extend([val.lstrip()])\n",
    "    val = sheet.cell(row = i, column = 9).value\n",
    "    if (isinstance(val, int)):\n",
    "        county.extend([val])\n",
    "    else:\n",
    "        county.extend([val.lstrip()]) \n",
    "    val = sheet.cell(row = i, column = 10).value\n",
    "    if (isinstance(val, int)):\n",
    "        mregion.extend([val])\n",
    "    else:\n",
    "        mregion.extend([val.lstrip()]) \n",
    "# end"
   ]
  },
  {
   "cell_type": "code",
   "execution_count": null,
   "metadata": {
    "collapsed": false
   },
   "outputs": [],
   "source": [
    "print(region[9:20])"
   ]
  },
  {
   "cell_type": "code",
   "execution_count": 4,
   "metadata": {
    "collapsed": false
   },
   "outputs": [
    {
     "name": "stdout",
     "output_type": "stream",
     "text": [
      "['tweetID', 'userID', 'date', 'lat', 'lon\\n']\n"
     ]
    }
   ],
   "source": [
    "# Open the text file containing tweet IDs\n",
    "tweetID = []\n",
    "cfile = open('dengueDump_3.23.16_coordinates.txt', 'r')\n",
    "x = (cfile.readline()).split(',')\n",
    "print(x)\n",
    "for i in range(0,28124):\n",
    "    x = (cfile.readline()).split(',')\n",
    "    tweetID.append(x[0])\n",
    "# end"
   ]
  },
  {
   "cell_type": "code",
   "execution_count": 5,
   "metadata": {
    "collapsed": false
   },
   "outputs": [
    {
     "name": "stdout",
     "output_type": "stream",
     "text": [
      "587665222078504961\n",
      "28124\n",
      "28124\n"
     ]
    }
   ],
   "source": [
    "print(tweetID[28123])\n",
    "print(len(tweetID))\n",
    "print(len(county))"
   ]
  },
  {
   "cell_type": "code",
   "execution_count": 6,
   "metadata": {
    "collapsed": false
   },
   "outputs": [],
   "source": [
    "dsize = len(data)\n",
    "\n",
    "# Combine information and create the master json file\n",
    "for j in range(0,dsize):\n",
    "    tid = data[j]['_id']\n",
    "    for i in range(0,len(tweetID)):\n",
    "        if (tid == tweetID[i]):\n",
    "            data[j]['country'] = country[i]\n",
    "            data[j]['region'] = region[i]\n",
    "            data[j]['county'] = county[i]\n",
    "            data[j]['microregion'] = mregion[i]\n",
    "            data[j]['state'] = state[i]\n",
    "            break\n",
    "        # end\n",
    "    # end\n",
    "# end"
   ]
  },
  {
   "cell_type": "code",
   "execution_count": 7,
   "metadata": {
    "collapsed": false
   },
   "outputs": [
    {
     "name": "stdout",
     "output_type": "stream",
     "text": [
      "{'_id': '411924517682823168',\n",
      " 'acr': '2010-02-09T15:16:46',\n",
      " 'cc': 'MX',\n",
      " 'country': 'Estados Unidos Mexicanos',\n",
      " 'county': 'Culiacán',\n",
      " 'cr': '2013-12-14T13:23:52',\n",
      " 'f': 'tw201312146315',\n",
      " 'flng': 167,\n",
      " 'flrs': 271,\n",
      " 'lang': 'es',\n",
      " 'microregion': 'NA',\n",
      " 'p': '22886de3634e157a',\n",
      " 'pln': -107.342,\n",
      " 'plt': 24.662,\n",
      " 'region': 80050,\n",
      " 'state': 'Sinaloa',\n",
      " 't': 'Justo cuando milagrosamente hay algo que hacer en esta ciudad yo '\n",
      "      'estoy palideando con el dengue. #Salavergaqué',\n",
      " 'tln': -107.425,\n",
      " 'tlt': 24.82,\n",
      " 'uid': '112817288'}\n"
     ]
    }
   ],
   "source": [
    "pprint(data[1])"
   ]
  },
  {
   "cell_type": "code",
   "execution_count": 13,
   "metadata": {
    "collapsed": false
   },
   "outputs": [],
   "source": [
    "with open('tweet_master_data2.json', 'w') as outfile:\n",
    "    json.dump(data, outfile)"
   ]
  },
  {
   "cell_type": "code",
   "execution_count": 14,
   "metadata": {
    "collapsed": false
   },
   "outputs": [
    {
     "name": "stdout",
     "output_type": "stream",
     "text": [
      "{'_id': '408779568778997760',\n",
      " 'acr': '2011-08-13T00:59:17',\n",
      " 'cc': 'MX',\n",
      " 'country': 'Estados Unidos Mexicanos',\n",
      " 'county': 'Francisco Villa',\n",
      " 'cr': '2013-12-05T21:06:58',\n",
      " 'edits': [{'curator_id': '540e300a7673826b17a5604c',\n",
      "            'date': '2015-08-15T21:18:45.875000',\n",
      "            'field': 'tags',\n",
      "            'new': 1}],\n",
      " 'f': 'tw201312520232',\n",
      " 'flng': 213,\n",
      " 'flrs': 399,\n",
      " 'lang': 'es',\n",
      " 'loc': 'Monterrey Es De Tigres ',\n",
      " 'microregion': 'NA',\n",
      " 'p': 'c5c72776b9f0cc0b',\n",
      " 'pln': -100.273,\n",
      " 'plt': 25.737,\n",
      " 'region': 66460,\n",
      " 'state': 'Nuevo León',\n",
      " 't': '@Doravelizg  es el Dengueeeee',\n",
      " 'tags': {'540e300a7673826b17a5604c': 1},\n",
      " 'tln': -100.277,\n",
      " 'tlt': 25.746,\n",
      " 'uid': '354120599',\n",
      " 'v': False}\n"
     ]
    }
   ],
   "source": [
    "data2 = []\n",
    "with open('tweet_master_data2.json') as f:\n",
    "    for line in f:\n",
    "        data2.extend(json.loads(line))\n",
    "        \n",
    "pprint(data2[0])"
   ]
  },
  {
   "cell_type": "code",
   "execution_count": 15,
   "metadata": {
    "collapsed": false
   },
   "outputs": [
    {
     "name": "stdout",
     "output_type": "stream",
     "text": [
      "14611\n"
     ]
    }
   ],
   "source": [
    "print(len(data2))"
   ]
  },
  {
   "cell_type": "code",
   "execution_count": 1,
   "metadata": {
    "collapsed": false
   },
   "outputs": [
    {
     "name": "stdout",
     "output_type": "stream",
     "text": [
      "{'str': 1}\n"
     ]
    }
   ],
   "source": [
    "dictest = {}\n",
    "dictest[\"str\"] = 1\n",
    "print(dictest)"
   ]
  },
  {
   "cell_type": "code",
   "execution_count": null,
   "metadata": {
    "collapsed": true
   },
   "outputs": [],
   "source": []
  }
 ],
 "metadata": {
  "kernelspec": {
   "display_name": "Python 3",
   "language": "python",
   "name": "python3"
  },
  "language_info": {
   "codemirror_mode": {
    "name": "ipython",
    "version": 3
   },
   "file_extension": ".py",
   "mimetype": "text/x-python",
   "name": "python",
   "nbconvert_exporter": "python",
   "pygments_lexer": "ipython3",
   "version": "3.4.3+"
  }
 },
 "nbformat": 4,
 "nbformat_minor": 0
}
